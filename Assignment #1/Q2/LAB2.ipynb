{
 "cells": [
  {
   "cell_type": "code",
   "execution_count": 1,
   "metadata": {},
   "outputs": [
    {
     "name": "stdout",
     "output_type": "stream",
     "text": [
      "Error: Couldn't load the image path_to_your_image.jpg.\n"
     ]
    }
   ],
   "source": [
    "import cv2\n",
    "import numpy as np\n",
    "\n",
    "def enhance_image(img):\n",
    "    L = 256  # Since it's an 8-bit grayscale image\n",
    "    \n",
    "    # Vectorized function to enhance the image using the given function\n",
    "    enhance_function = np.vectorize(lambda r: 5*L/6 if 0 <= r < L/3 else (2*r + L/6 if L/3 <= r < 2*L/3 else L/6))\n",
    "    \n",
    "    # Apply the enhancement function\n",
    "    enhanced_img = enhance_function(img)\n",
    "    \n",
    "    return enhanced_img\n",
    "\n",
    "def main(image_path):\n",
    "    # Load image in grayscale\n",
    "    img = cv2.imread(image_path, cv2.IMREAD_GRAYSCALE)\n",
    "    \n",
    "    # If image loading fails\n",
    "    if img is None:\n",
    "        print(f\"Error: Couldn't load the image {image_path}.\")\n",
    "        return\n",
    "    \n",
    "    enhanced_img = enhance_image(img)\n",
    "    \n",
    "    # Display the original and enhanced image for comparison\n",
    "    cv2.imshow('Original', img)\n",
    "    cv2.imshow('Enhanced', enhanced_img)\n",
    "    cv2.waitKey(0)\n",
    "    cv2.destroyAllWindows()\n",
    "\n",
    "if __name__ == \"__main__\":\n",
    "    image_path = \"path_to_your_image.jpg\"\n",
    "    main(image_path)\n"
   ]
  }
 ],
 "metadata": {
  "kernelspec": {
   "display_name": "base",
   "language": "python",
   "name": "python3"
  },
  "language_info": {
   "codemirror_mode": {
    "name": "ipython",
    "version": 3
   },
   "file_extension": ".py",
   "mimetype": "text/x-python",
   "name": "python",
   "nbconvert_exporter": "python",
   "pygments_lexer": "ipython3",
   "version": "3.9.16"
  },
  "orig_nbformat": 4
 },
 "nbformat": 4,
 "nbformat_minor": 2
}
