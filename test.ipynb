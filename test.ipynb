{
 "cells": [
  {
   "cell_type": "code",
   "execution_count": null,
   "metadata": {},
   "outputs": [],
   "source": [
    "def segment_logo_skimage(image):\n",
    "    # Apply Otsu's thresholding\n",
    "    gray_image = cv2.cvtColor(image, cv2.COLOR_BGR2GRAY)\n",
    "\n",
    "    thresh = threshold_otsu(gray_image)\n",
    "    bw = closing(gray_image > thresh, square(2))\n",
    "\n",
    "    # Remove artifacts connected to image border\n",
    "    cleared = clear_border(bw)\n",
    "\n",
    "    # Label image regions\n",
    "    label_image = label(cleared)\n",
    "\n",
    "    # Create an overlay image with transparent background\n",
    "    image_label_overlay = label2rgb(label_image, image=image, bg_label=0)\n",
    "\n",
    "    # Find the logo region\n",
    "    regions = regionprops(label_image)\n",
    "    logo_region = max(regions, key=lambda r: r.area)  # Assuming the logo is the largest region\n",
    "\n",
    "    # Create a mask for the logo\n",
    "    logo_mask = np.zeros_like(gray_image)\n",
    "    minr, minc, maxr, maxc = logo_region.bbox\n",
    "    logo_mask[minr:maxr, minc:maxc] = label_image[minr:maxr, minc:maxc] == logo_region.label\n",
    "\n",
    "    # Extract the logo from the original image\n",
    "    logo = np.zeros_like(image)\n",
    "    for i in range(3):  # for each color channel\n",
    "        logo[:, :, i] = image[:, :, i] * logo_mask\n",
    "\n",
    "    # Change background to a solid color (e.g., white)\n",
    "    background_color = [255, 255, 255]  # White background\n",
    "    for i in range(3):  # for each color channel\n",
    "        logo[:, :, i][logo_mask == 0] = background_color[i]\n",
    "\n",
    "    return logo\n",
    "\n",
    "image = cv2.imread('./handbag3.jpeg')\n",
    "logo = segment_logo_skimage(image)\n",
    "# Display the original image and the extracted logo side by side\n",
    "fig, ax = plt.subplots(1, 2, figsize=(12, 6))\n",
    "\n",
    "# Original image\n",
    "ax[0].imshow(image)\n",
    "ax[0].set_title('Original Image')\n",
    "ax[0].axis('off')\n",
    "\n",
    "# Extracted logo\n",
    "ax[1].imshow(logo)\n",
    "ax[1].set_title('Extracted Logo')\n",
    "ax[1].axis('off')\n",
    "\n",
    "plt.show()"
   ]
  }
 ],
 "metadata": {
  "kernelspec": {
   "display_name": "base",
   "language": "python",
   "name": "python3"
  },
  "language_info": {
   "name": "python",
   "version": "3.9.16"
  }
 },
 "nbformat": 4,
 "nbformat_minor": 2
}
